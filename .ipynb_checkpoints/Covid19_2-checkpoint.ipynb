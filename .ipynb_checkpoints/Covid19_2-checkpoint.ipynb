{
 "cells": [
  {
   "cell_type": "code",
   "execution_count": 19,
   "metadata": {},
   "outputs": [],
   "source": [
    "import pandas as pd\n",
    "import plotly.graph_objects as go\n",
    "import plotly.io as pio\n",
    "from scipy.optimize import curve_fit\n",
    "import datetime\n",
    "from matplotlib.dates import date2num\n",
    "import numpy as np\n",
    "import plotly\n",
    "import chart_studio\n",
    "import chart_studio.plotly as py\n",
    "from plotly.offline import plot, iplot\n",
    "chart_studio.tools.set_credentials_file(username='sorin.bolos', api_key='1VPkxbMHak7Y7M9dyDQD')\n",
    "\n",
    "pacienti = pd.read_csv('pacienti_agg.csv', parse_dates=[0], dayfirst=True)\n",
    "predictii = pd.read_csv('predictii_cumulat.csv', parse_dates=[0], dayfirst=True)"
   ]
  },
  {
   "cell_type": "code",
   "execution_count": 25,
   "metadata": {},
   "outputs": [
    {
     "data": {
      "text/html": [
       "\n",
       "        <iframe\n",
       "            width=\"100%\"\n",
       "            height=\"525px\"\n",
       "            src=\"https://plot.ly/~sorin.bolos/17.embed\"\n",
       "            frameborder=\"0\"\n",
       "            allowfullscreen\n",
       "        ></iframe>\n",
       "        "
      ],
      "text/plain": [
       "<IPython.lib.display.IFrame at 0x1fcf73da748>"
      ]
     },
     "execution_count": 25,
     "metadata": {},
     "output_type": "execute_result"
    }
   ],
   "source": [
    "#Total cazuri\n",
    "total = pacienti.merge(predictii, left_on='data', right_on='data', how='outer')\n",
    "x = total['data']\n",
    "y1 = total['cumulat']\n",
    "y2 = total['t1']\n",
    "\n",
    "fig = go.Figure(data=[\n",
    "    go.Bar(name='Predictie', x=x, y=y2),\n",
    "    go.Bar(name='Real', x=x, y=y1)\n",
    "])\n",
    "\n",
    "fig.update_layout(title=\"Numar total de cazuri\")\n",
    "\n",
    "fig.show()\n",
    "#py.iplot(fig, filename=\"total_cazuri\")\n",
    "#pio.write_html(fig, file='infectii_totale.html', auto_open=True)"
   ]
  },
  {
   "cell_type": "code",
   "execution_count": 26,
   "metadata": {},
   "outputs": [
    {
     "data": {
      "text/html": [
       "\n",
       "        <iframe\n",
       "            width=\"100%\"\n",
       "            height=\"525px\"\n",
       "            src=\"https://plot.ly/~sorin.bolos/19.embed\"\n",
       "            frameborder=\"0\"\n",
       "            allowfullscreen\n",
       "        ></iframe>\n",
       "        "
      ],
      "text/plain": [
       "<IPython.lib.display.IFrame at 0x1fcf4816e48>"
      ]
     },
     "execution_count": 26,
     "metadata": {},
     "output_type": "execute_result"
    }
   ],
   "source": [
    "#Cazuri externe pe zi\n",
    "x = total['data']\n",
    "y = total['pe_zi']\n",
    "\n",
    "fig = go.Figure(data=[\n",
    "    go.Bar(x=x, y=y)\n",
    "])\n",
    "fig.update_layout(title=\"Cazuri noi pe zi\")\n",
    "fig.show()\n",
    "\n",
    "#py.iplot(fig, filename=\"cazuri_noi_pe_zi\")\n",
    "#pio.write_html(fig, file='infectii_noi_zi_externe.html', auto_open=True)"
   ]
  },
  {
   "cell_type": "code",
   "execution_count": 27,
   "metadata": {},
   "outputs": [
    {
     "data": {
      "text/html": [
       "\n",
       "        <iframe\n",
       "            width=\"100%\"\n",
       "            height=\"525px\"\n",
       "            src=\"https://plot.ly/~sorin.bolos/21.embed\"\n",
       "            frameborder=\"0\"\n",
       "            allowfullscreen\n",
       "        ></iframe>\n",
       "        "
      ],
      "text/plain": [
       "<IPython.lib.display.IFrame at 0x1fcf4771848>"
      ]
     },
     "execution_count": 27,
     "metadata": {},
     "output_type": "execute_result"
    }
   ],
   "source": [
    "def sigmoid(x, x0,y0,c,k):\n",
    "    return c / (1 + np.exp(-k*(x-x0))) + y0\n",
    "\n",
    "def exponential(x, a, b, c):\n",
    "    return a * np.exp(b * x) + c\n",
    "\n",
    "forward = 14\n",
    "\n",
    "l = len(pacienti)\n",
    "x = np.linspace(1, l, l)\n",
    "y = list(i/1000 for i in pacienti[\"cumulat\"])\n",
    "\n",
    "popt, pcov = curve_fit(sigmoid, x, y)\n",
    "#popt_e, pcov_e = curve_fit(exponential, x, y)\n",
    "\n",
    "yp = pacienti['cumulat']\n",
    "\n",
    "x2 = np.linspace(1, l+forward, l+forward)\n",
    "date = pd.date_range(start='26-02-2020', periods=l+forward)\n",
    "\n",
    "fig = go.Figure(data=[\n",
    "    go.Scatter(name='Predictie', x=date, y=1000*sigmoid(x2, *popt), mode='lines+markers'),\n",
    "    #go.Scatter(name='Predictie pesimista', x=date, y=1000*exponential(x2, *popt_e), mode='lines+markers'),\n",
    "    go.Bar(name='Real', x=date, y=yp)\n",
    "])\n",
    "fig.update_layout(title=\"Cazuri totale + predictie curenta\")\n",
    "fig.show()\n",
    "\n",
    "#py.iplot(fig, filename=\"predictie_curenta\")"
   ]
  },
  {
   "cell_type": "code",
   "execution_count": 28,
   "metadata": {},
   "outputs": [
    {
     "data": {
      "text/html": [
       "\n",
       "        <iframe\n",
       "            width=\"100%\"\n",
       "            height=\"525px\"\n",
       "            src=\"https://plot.ly/~sorin.bolos/23.embed\"\n",
       "            frameborder=\"0\"\n",
       "            allowfullscreen\n",
       "        ></iframe>\n",
       "        "
      ],
      "text/plain": [
       "<IPython.lib.display.IFrame at 0x1fcf74faa88>"
      ]
     },
     "execution_count": 28,
     "metadata": {},
     "output_type": "execute_result"
    }
   ],
   "source": [
    "date = pd.date_range(start='26-02-2020', periods=l+forward)\n",
    "x2 = np.linspace(1, l+forward, l+forward)\n",
    "\n",
    "figure_data = []\n",
    "for i in range(18, l+1):\n",
    "    workset = pacienti[:i]\n",
    "    l_2 = len(workset)\n",
    "    x_2 = np.linspace(1, l_2, l_2)\n",
    "    y_2 = list(i/1000 for i in workset[\"cumulat\"])\n",
    "    popt_2, pcov_2 = curve_fit(sigmoid, x_2, y_2)\n",
    "    figure_data.append(go.Scatter(name=f'Predictie {date[i].day} Martie', x=date, y=1000*sigmoid(x2, *popt_2)),)\n",
    "\n",
    "fig = go.Figure(data=figure_data)\n",
    "fig.update_layout(title=\"Evolutia predictiilor\")\n",
    "#fig.show()\n",
    "\n",
    "py.iplot(fig, filename=\"evolutie_predictii\")"
   ]
  },
  {
   "cell_type": "code",
   "execution_count": 32,
   "metadata": {},
   "outputs": [
    {
     "data": {
      "text/html": [
       "\n",
       "        <iframe\n",
       "            width=\"100%\"\n",
       "            height=\"525px\"\n",
       "            src=\"https://plot.ly/~sorin.bolos/51.embed\"\n",
       "            frameborder=\"0\"\n",
       "            allowfullscreen\n",
       "        ></iframe>\n",
       "        "
      ],
      "text/plain": [
       "<IPython.lib.display.IFrame at 0x1fcf72d43c8>"
      ]
     },
     "execution_count": 32,
     "metadata": {},
     "output_type": "execute_result"
    }
   ],
   "source": [
    "l = len(pacienti)\n",
    "x = np.linspace(1, l, l)\n",
    "y = list(i/1000 for i in pacienti[\"cumulat\"])\n",
    "\n",
    "popt_e, pcov_e = curve_fit(exponential, x, y)\n",
    "\n",
    "yp = pacienti['cumulat']\n",
    "\n",
    "x2 = np.linspace(1, l+forward, l+forward)\n",
    "date = pd.date_range(start='26-02-2020', periods=l+forward)\n",
    "\n",
    "fig = go.Figure(data=[\n",
    "    go.Scatter(name='Predictie pesimista', x=date, y=1000*exponential(x2, *popt_e), mode='lines+markers'),\n",
    "    go.Bar(name='Real', x=date, y=yp)\n",
    "])\n",
    "fig.update_layout(title=\"Cazuri totale + predictie pesimista\")\n",
    "fig.show()\n",
    "\n",
    "#py.iplot(fig, filename=\"predictie_pesimista\")"
   ]
  },
  {
   "cell_type": "code",
   "execution_count": 31,
   "metadata": {},
   "outputs": [
    {
     "data": {
      "text/html": [
       "\n",
       "        <iframe\n",
       "            width=\"100%\"\n",
       "            height=\"525px\"\n",
       "            src=\"https://plot.ly/~sorin.bolos/49.embed\"\n",
       "            frameborder=\"0\"\n",
       "            allowfullscreen\n",
       "        ></iframe>\n",
       "        "
      ],
      "text/plain": [
       "<IPython.lib.display.IFrame at 0x1fcf7065808>"
      ]
     },
     "execution_count": 31,
     "metadata": {},
     "output_type": "execute_result"
    }
   ],
   "source": [
    "date = pd.date_range(start='26-02-2020', periods=l+forward)\n",
    "x2 = np.linspace(1, l+forward, l+forward)\n",
    "\n",
    "figure_data = []\n",
    "for i in range(18, l+1):\n",
    "    workset = pacienti[:i]\n",
    "    l_2 = len(workset)\n",
    "    x_2 = np.linspace(1, l_2, l_2)\n",
    "    y_2 = list(i/1000 for i in workset[\"cumulat\"])\n",
    "    popt_2, pcov_2 = curve_fit(exponential, x_2, y_2)\n",
    "    figure_data.append(go.Scatter(name=f'Predictie {date[i].day} Martie', x=date, y=1000*exponential(x2, *popt_2)),)\n",
    "\n",
    "fig = go.Figure(data=figure_data)\n",
    "fig.update_layout(title=\"Evolutia predictiilor pesimiste\")\n",
    "fig.show()\n",
    "\n",
    "#py.iplot(fig, filename=\"evolutie_predictii_pesimiste\")"
   ]
  },
  {
   "cell_type": "code",
   "execution_count": null,
   "metadata": {},
   "outputs": [],
   "source": []
  }
 ],
 "metadata": {
  "kernelspec": {
   "display_name": "Python 3",
   "language": "python",
   "name": "python3"
  },
  "language_info": {
   "codemirror_mode": {
    "name": "ipython",
    "version": 3
   },
   "file_extension": ".py",
   "mimetype": "text/x-python",
   "name": "python",
   "nbconvert_exporter": "python",
   "pygments_lexer": "ipython3",
   "version": "3.7.6"
  }
 },
 "nbformat": 4,
 "nbformat_minor": 4
}
